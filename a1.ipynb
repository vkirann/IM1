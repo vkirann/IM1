{
 "cells": [
  {
   "attachments": {},
   "cell_type": "markdown",
   "metadata": {},
   "source": [
    "A program to find the eldest among three persons age received from the user ."
   ]
  },
  {
   "cell_type": "code",
   "execution_count": 5,
   "metadata": {},
   "outputs": [
    {
     "name": "stdout",
     "output_type": "stream",
     "text": [
      "a2 is eldest 97\n"
     ]
    }
   ],
   "source": [
    "a1=int(input(\"enter the age of 1st person\"))\n",
    "a2=int(input(\"enter the age of 2nd person\"))\n",
    "a3=int(input(\"enter the age of 3rd person\"))\n",
    "if (a1>a2) and (a1>a3):\n",
    "    print(\"a1 is eldest\",a1)\n",
    "elif (a2>a1) and (a2>3):\n",
    "    print(\"a2 is eldest\",a2)\n",
    "else:\n",
    "    print(\"a3 is eldest\",a1)\n",
    "\n"
   ]
  },
  {
   "attachments": {},
   "cell_type": "markdown",
   "metadata": {},
   "source": [
    "A program to check the number record from the user is positive or negative"
   ]
  },
  {
   "cell_type": "code",
   "execution_count": 10,
   "metadata": {},
   "outputs": [
    {
     "name": "stdout",
     "output_type": "stream",
     "text": [
      " the value is positive 10\n"
     ]
    }
   ],
   "source": [
    "a=int(input(\" the value\"))\n",
    "if (a>0):\n",
    "    print(\" the value is positive\",a)\n",
    "else:\n",
    "    print(\" the value is negative\",a)\n"
   ]
  },
  {
   "cell_type": "code",
   "execution_count": 8,
   "metadata": {},
   "outputs": [
    {
     "name": "stdout",
     "output_type": "stream",
     "text": [
      " the value is negative -10\n"
     ]
    }
   ],
   "source": [
    "a=int(input(\" the value\"))\n",
    "if (a>0):\n",
    "    print(\" the value is positive\",a)\n",
    "else:\n",
    "    print(\" the value is negative\",a)\n"
   ]
  },
  {
   "attachments": {},
   "cell_type": "markdown",
   "metadata": {},
   "source": [
    " A program to accept two numbers & mathematical operator and perform operations accordingly"
   ]
  },
  {
   "cell_type": "code",
   "execution_count": 11,
   "metadata": {},
   "outputs": [
    {
     "name": "stdout",
     "output_type": "stream",
     "text": [
      "addition of two numbers 13\n",
      "substraction of two numbers 5\n",
      "multiplication of two numbers 36\n",
      "division of two numbers 2.25\n",
      "square root of two numbers 6561\n",
      "modolus 'of two numbers 1\n"
     ]
    }
   ],
   "source": [
    "A=int(input(\"enter the 1st number\"))\n",
    "B=int(input(\"enter the 2nd number\"))\n",
    "print(\"addition of two numbers\",A+B)\n",
    "print(\"substraction of two numbers\",A-B)\n",
    "print(\"multiplication of two numbers\",A*B)\n",
    "print(\"division of two numbers\",A/B)\n",
    "print(\"square root of two numbers\",A**B)\n",
    "print(\"modolus 'of two numbers\",A%B)"
   ]
  },
  {
   "attachments": {},
   "cell_type": "markdown",
   "metadata": {},
   "source": [
    " A program if You have written an exam for a total score of 100 and if your score is above or equal to 60 then you will be considered as PASS in the exam."
   ]
  },
  {
   "cell_type": "code",
   "execution_count": 18,
   "metadata": {},
   "outputs": [
    {
     "name": "stdout",
     "output_type": "stream",
     "text": [
      "100\n",
      "69\n",
      " PASS 69\n"
     ]
    }
   ],
   "source": [
    "A=int(input(\"total marks\"))\n",
    "print(A)\n",
    "result=int(input(\"enter the marks obtained\"))\n",
    "print(result)\n",
    "if (result>60):\n",
    "    print(\" PASS\",result)\n",
    "else :\n",
    "    print(\" FAIL\",result)"
   ]
  }
 ],
 "metadata": {
  "kernelspec": {
   "display_name": "Python 3",
   "language": "python",
   "name": "python3"
  },
  "language_info": {
   "codemirror_mode": {
    "name": "ipython",
    "version": 3
   },
   "file_extension": ".py",
   "mimetype": "text/x-python",
   "name": "python",
   "nbconvert_exporter": "python",
   "pygments_lexer": "ipython3",
   "version": "3.10.4"
  },
  "orig_nbformat": 4
 },
 "nbformat": 4,
 "nbformat_minor": 2
}
